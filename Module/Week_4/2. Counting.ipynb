{
 "cells": [
  {
   "cell_type": "markdown",
   "metadata": {},
   "source": [
    "## 2. Counting"
   ]
  },
  {
   "cell_type": "markdown",
   "metadata": {},
   "source": [
    "Counting is not always easy, some aspects that involve counting present complex problems such as in how many different ways can 5 different genes be arranged to effectively activate a biological process? or How many different ways can a group of images be selected from a subset of 10?\n",
    "\n",
    "---\n",
    "\n",
    "## The Multiplication principle\n",
    "\n",
    "**Combinatorials:** laborious and time consuming process if solved directly. We rely on mathematical solutions to facilitate a rapid solution to such questions.\n",
    "\n",
    "Lets imagine two different events A and B from different processes. For example, A can be rolling a die and B growing a card from a deck of 52 cards.\n",
    "A has 6 possible outcomes and B has 52 possible outcomes. \n",
    "\n",
    "Let's define variables...\n",
    "\n",
    "event A has m possible outcomes and event B has n possible outcomes, then the number of outcomes between A and B is n*m\n",
    "\n",
    "![title](combinatorials.png)"
   ]
  },
  {
   "cell_type": "markdown",
   "metadata": {},
   "source": [
    "In our previous example we have 6*52 = 312 possible different outcomes\n",
    "\n",
    "Example 2 A computer manufacturer has 15 monitors, each of which can be connected to any one of 12 systems for shipping out to retail outlets. How many different combinations of systems and monitors are there?\n",
    "\n",
    "<h4><center>**There are 12 X 15 = 180 different combinations**!</center></h4>\n",
    "\n"
   ]
  },
  {
   "cell_type": "markdown",
   "metadata": {},
   "source": [
    "#### We can generalize the rule to be applied to multiple events.\n",
    "\n",
    "If k experiments have outcomes n1, n2, n3…$n_k$, then together the k experiments have a total of n1*n2*n3*…*nk\n",
    "possible outcomes."
   ]
  },
  {
   "cell_type": "markdown",
   "metadata": {},
   "source": [
    "For example, suppose a protein complex consists of 5 proteins encoded by 5 different genes. Suppose for protein 1 there are 4 genetic alleles, for protein 2 there are 2 genetic alleles, for protein 3 there are 9 genetic alleles, for protein 4 there are 11 alleles, and for protein 5 there are 6 alleles. How many different genetic alleles are involved in this protein complex? \n",
    "\n",
    "The answer is a straightforward multiplication of the number of alleles involved in all 5 proteins,"
   ]
  },
  {
   "cell_type": "code",
   "execution_count": null,
   "metadata": {
    "collapsed": true
   },
   "outputs": [],
   "source": [
    "4*2*9*11*6"
   ]
  },
  {
   "cell_type": "markdown",
   "metadata": {},
   "source": [
    "---\n",
    "\n",
    "### Ordered Selection With Replacement - Permutations with replacement\n",
    "\n",
    "In the previous rule, we were interested in all possible arrangements independent of order. But in many cases we are interested in finding out the different number of arrangements when order matter, but allowing repetited elements. \n",
    "\n",
    "For example, we have a set of n elements e.g. n(3) = {1,2,3} where we want to draw two at the times k = {2}.\n",
    "\n",
    "In general, we can argue that there are k positions in the chosen list: ((Position 1, Position 2, ..., Position k). There are n options for each position. Thus, when ordering matters and repetition is allowed, the total number of ways to choose k objects from a set with n elements is\n",
    "\n",
    "$$n×n×...×n= n^k$$\n",
    "\n",
    "Note that this is a special case of the multiplication principle where there are k \"experiments\" and each experiment has n possible outcomes.\n",
    "\n",
    "In our example we have n = 3 (also noted as size) and k = 2 (trials) (this notation will become extremely important further ahead).\n",
    "\n",
    "$$3^2=9$$\n"
   ]
  },
  {
   "cell_type": "code",
   "execution_count": 2,
   "metadata": {},
   "outputs": [
    {
     "data": {
      "text/html": [
       "<table>\n",
       "<tbody>\n",
       "\t<tr><td>1</td><td>1</td></tr>\n",
       "\t<tr><td>1</td><td>2</td></tr>\n",
       "\t<tr><td>1</td><td>3</td></tr>\n",
       "\t<tr><td>2</td><td>1</td></tr>\n",
       "\t<tr><td>2</td><td>2</td></tr>\n",
       "\t<tr><td>2</td><td>3</td></tr>\n",
       "\t<tr><td>3</td><td>1</td></tr>\n",
       "\t<tr><td>3</td><td>2</td></tr>\n",
       "\t<tr><td>3</td><td>3</td></tr>\n",
       "</tbody>\n",
       "</table>\n"
      ],
      "text/latex": [
       "\\begin{tabular}{ll}\n",
       "\t 1 & 1\\\\\n",
       "\t 1 & 2\\\\\n",
       "\t 1 & 3\\\\\n",
       "\t 2 & 1\\\\\n",
       "\t 2 & 2\\\\\n",
       "\t 2 & 3\\\\\n",
       "\t 3 & 1\\\\\n",
       "\t 3 & 2\\\\\n",
       "\t 3 & 3\\\\\n",
       "\\end{tabular}\n"
      ],
      "text/markdown": [
       "\n",
       "| 1 | 1 | \n",
       "| 1 | 2 | \n",
       "| 1 | 3 | \n",
       "| 2 | 1 | \n",
       "| 2 | 2 | \n",
       "| 2 | 3 | \n",
       "| 3 | 1 | \n",
       "| 3 | 2 | \n",
       "| 3 | 3 | \n",
       "\n",
       "\n"
      ],
      "text/plain": [
       "      [,1] [,2]\n",
       " [1,] 1    1   \n",
       " [2,] 1    2   \n",
       " [3,] 1    3   \n",
       " [4,] 2    1   \n",
       " [5,] 2    2   \n",
       " [6,] 2    3   \n",
       " [7,] 3    1   \n",
       " [8,] 3    2   \n",
       " [9,] 3    3   "
      ]
     },
     "metadata": {},
     "output_type": "display_data"
    }
   ],
   "source": [
    "library(gtools)\n",
    "permutations(3,2,repeats.allowed = T)"
   ]
  },
  {
   "cell_type": "markdown",
   "metadata": {},
   "source": [
    "Example 2:\n",
    "\n",
    "What is the probability that 10 persons, picked at random, are all born in May? \n"
   ]
  },
  {
   "cell_type": "code",
   "execution_count": null,
   "metadata": {
    "collapsed": true
   },
   "outputs": [],
   "source": []
  },
  {
   "cell_type": "markdown",
   "metadata": {},
   "source": [
    "---\n",
    "\n",
    "### Permutations without replacement: Arrangements on same set\n",
    "\n",
    "**In permutations the order matter**\n",
    "\n",
    "In a protein complex, there are 4 subunits that in conjunction can activate multiple pathways depending of what order are the subunits arranged, lets call these subunits {A,B,C,D}. What are all the possible permutations for these four subunits."
   ]
  },
  {
   "cell_type": "code",
   "execution_count": 3,
   "metadata": {},
   "outputs": [
    {
     "data": {
      "text/html": [
       "<table>\n",
       "<tbody>\n",
       "\t<tr><td>A</td><td>B</td><td>C</td><td>D</td></tr>\n",
       "\t<tr><td>A</td><td>B</td><td>D</td><td>C</td></tr>\n",
       "\t<tr><td>A</td><td>C</td><td>B</td><td>D</td></tr>\n",
       "\t<tr><td>A</td><td>C</td><td>D</td><td>B</td></tr>\n",
       "\t<tr><td>A</td><td>D</td><td>B</td><td>C</td></tr>\n",
       "\t<tr><td>A</td><td>D</td><td>C</td><td>B</td></tr>\n",
       "\t<tr><td>B</td><td>A</td><td>C</td><td>D</td></tr>\n",
       "\t<tr><td>B</td><td>A</td><td>D</td><td>C</td></tr>\n",
       "\t<tr><td>B</td><td>C</td><td>A</td><td>D</td></tr>\n",
       "\t<tr><td>B</td><td>C</td><td>D</td><td>A</td></tr>\n",
       "\t<tr><td>B</td><td>D</td><td>A</td><td>C</td></tr>\n",
       "\t<tr><td>B</td><td>D</td><td>C</td><td>A</td></tr>\n",
       "\t<tr><td>C</td><td>A</td><td>B</td><td>D</td></tr>\n",
       "\t<tr><td>C</td><td>A</td><td>D</td><td>B</td></tr>\n",
       "\t<tr><td>C</td><td>B</td><td>A</td><td>D</td></tr>\n",
       "\t<tr><td>C</td><td>B</td><td>D</td><td>A</td></tr>\n",
       "\t<tr><td>C</td><td>D</td><td>A</td><td>B</td></tr>\n",
       "\t<tr><td>C</td><td>D</td><td>B</td><td>A</td></tr>\n",
       "\t<tr><td>D</td><td>A</td><td>B</td><td>C</td></tr>\n",
       "\t<tr><td>D</td><td>A</td><td>C</td><td>B</td></tr>\n",
       "\t<tr><td>D</td><td>B</td><td>A</td><td>C</td></tr>\n",
       "\t<tr><td>D</td><td>B</td><td>C</td><td>A</td></tr>\n",
       "\t<tr><td>D</td><td>C</td><td>A</td><td>B</td></tr>\n",
       "\t<tr><td>D</td><td>C</td><td>B</td><td>A</td></tr>\n",
       "</tbody>\n",
       "</table>\n"
      ],
      "text/latex": [
       "\\begin{tabular}{llll}\n",
       "\t A & B & C & D\\\\\n",
       "\t A & B & D & C\\\\\n",
       "\t A & C & B & D\\\\\n",
       "\t A & C & D & B\\\\\n",
       "\t A & D & B & C\\\\\n",
       "\t A & D & C & B\\\\\n",
       "\t B & A & C & D\\\\\n",
       "\t B & A & D & C\\\\\n",
       "\t B & C & A & D\\\\\n",
       "\t B & C & D & A\\\\\n",
       "\t B & D & A & C\\\\\n",
       "\t B & D & C & A\\\\\n",
       "\t C & A & B & D\\\\\n",
       "\t C & A & D & B\\\\\n",
       "\t C & B & A & D\\\\\n",
       "\t C & B & D & A\\\\\n",
       "\t C & D & A & B\\\\\n",
       "\t C & D & B & A\\\\\n",
       "\t D & A & B & C\\\\\n",
       "\t D & A & C & B\\\\\n",
       "\t D & B & A & C\\\\\n",
       "\t D & B & C & A\\\\\n",
       "\t D & C & A & B\\\\\n",
       "\t D & C & B & A\\\\\n",
       "\\end{tabular}\n"
      ],
      "text/markdown": [
       "\n",
       "| A | B | C | D | \n",
       "| A | B | D | C | \n",
       "| A | C | B | D | \n",
       "| A | C | D | B | \n",
       "| A | D | B | C | \n",
       "| A | D | C | B | \n",
       "| B | A | C | D | \n",
       "| B | A | D | C | \n",
       "| B | C | A | D | \n",
       "| B | C | D | A | \n",
       "| B | D | A | C | \n",
       "| B | D | C | A | \n",
       "| C | A | B | D | \n",
       "| C | A | D | B | \n",
       "| C | B | A | D | \n",
       "| C | B | D | A | \n",
       "| C | D | A | B | \n",
       "| C | D | B | A | \n",
       "| D | A | B | C | \n",
       "| D | A | C | B | \n",
       "| D | B | A | C | \n",
       "| D | B | C | A | \n",
       "| D | C | A | B | \n",
       "| D | C | B | A | \n",
       "\n",
       "\n"
      ],
      "text/plain": [
       "      [,1] [,2] [,3] [,4]\n",
       " [1,] A    B    C    D   \n",
       " [2,] A    B    D    C   \n",
       " [3,] A    C    B    D   \n",
       " [4,] A    C    D    B   \n",
       " [5,] A    D    B    C   \n",
       " [6,] A    D    C    B   \n",
       " [7,] B    A    C    D   \n",
       " [8,] B    A    D    C   \n",
       " [9,] B    C    A    D   \n",
       "[10,] B    C    D    A   \n",
       "[11,] B    D    A    C   \n",
       "[12,] B    D    C    A   \n",
       "[13,] C    A    B    D   \n",
       "[14,] C    A    D    B   \n",
       "[15,] C    B    A    D   \n",
       "[16,] C    B    D    A   \n",
       "[17,] C    D    A    B   \n",
       "[18,] C    D    B    A   \n",
       "[19,] D    A    B    C   \n",
       "[20,] D    A    C    B   \n",
       "[21,] D    B    A    C   \n",
       "[22,] D    B    C    A   \n",
       "[23,] D    C    A    B   \n",
       "[24,] D    C    B    A   "
      ]
     },
     "metadata": {},
     "output_type": "display_data"
    },
    {
     "data": {
      "text/html": [
       "24"
      ],
      "text/latex": [
       "24"
      ],
      "text/markdown": [
       "24"
      ],
      "text/plain": [
       "[1] 24"
      ]
     },
     "metadata": {},
     "output_type": "display_data"
    }
   ],
   "source": [
    "subun = c(\"A\",\"B\",\"C\",\"D\")\n",
    "permutations(4,4, subun,repeats.allowed = F)\n",
    "length(permutations(4,4)[,1])"
   ]
  },
  {
   "cell_type": "markdown",
   "metadata": {},
   "source": [
    "Writing out all possible arrangements is quite tedious and prone to error, particularly when we have a large number of elements. Let's analyze the problem from a mathematical perspective..\n",
    "\n",
    "If we name $S_1$ the first subunit, we can choose any so we have 4 options, now for $S_2$ we have only 3 options left as we have already chose one, $S_3$ = 2, and $S_4$ = 1, using pur multiplication rule we have\n",
    "\n",
    "$$4 * 3 * 2 * 1 =24$$"
   ]
  },
  {
   "cell_type": "markdown",
   "metadata": {},
   "source": [
    "#### Generalizing:\n",
    "\n",
    "the number of different arrangements (permutations) of n objects in a row is n(n-1) * (N-2)...321\n",
    "\n",
    "This formulation is called a **factorial** and has a special notation n! called n factorial\n",
    "\n",
    "4! = 24"
   ]
  },
  {
   "cell_type": "code",
   "execution_count": null,
   "metadata": {
    "collapsed": true
   },
   "outputs": [],
   "source": [
    "factorial(4)"
   ]
  },
  {
   "cell_type": "markdown",
   "metadata": {},
   "source": [
    "An important property of factorials is that\n",
    "\n",
    "0! = 1"
   ]
  },
  {
   "cell_type": "markdown",
   "metadata": {},
   "source": [
    "Example: \n",
    "\n",
    "A CD disc holder has two compartments, each of which holds five CDs. If I have five rock CDs and five classical CDs, in how many different ways can I store them if: \n",
    "\n",
    "(a) they are all mixed together, \n",
    "\n",
    "(b) the rock and classical CDs are to be stored separately?\n",
    "\n"
   ]
  },
  {
   "cell_type": "code",
   "execution_count": null,
   "metadata": {
    "collapsed": true
   },
   "outputs": [],
   "source": []
  },
  {
   "cell_type": "markdown",
   "metadata": {},
   "source": [
    "### Arrangements without replacement \n",
    "\n",
    "Going back to sampling with replacement, remember that we want to choose k elements from a large n set, in that case we are not interested in the order or if we draw the same element multiple times, however, in many cases we don't want to return the element to the main group. In this case the main group n decreases by one after each draw.\n",
    "\n",
    "##### Order Relevant - Permutations nPk\n",
    "\n",
    "if The order of our arrangement is relevant, and we are not replacing objects, we can say that there are n ways of drawing the first element, (n-1) the second, etc. in general, (n-k+1) ways of removing the kth element.\n",
    "\n",
    "$$n(n-1)(n-2)...(n-k+1)$$\n",
    "\n",
    "This expression can also be written as \n",
    "\\begin{equation*}nPk = \\frac{n!}{(n-k)!}\\end{equation*}\n",
    "\n",
    " "
   ]
  },
  {
   "cell_type": "code",
   "execution_count": 1,
   "metadata": {},
   "outputs": [
    {
     "ename": "ERROR",
     "evalue": "Error in permutations(4, 4, subun, set = TRUE, repeats.allowed = F): could not find function \"permutations\"\n",
     "output_type": "error",
     "traceback": [
      "Error in permutations(4, 4, subun, set = TRUE, repeats.allowed = F): could not find function \"permutations\"\nTraceback:\n"
     ]
    }
   ],
   "source": [
    "##in our nucleotide example \n",
    "length(permutations(4,4,subun,set=TRUE,repeats.allowed = F)[,1])"
   ]
  },
  {
   "cell_type": "markdown",
   "metadata": {},
   "source": [
    "#### Order Irrelevant Combinations nCk\n",
    "\n",
    "**In combinations order doesn't matter**\n",
    "\n",
    "If order does not matter, we are decreasing the number of possible arrangements by k!, as we don't allow replacement thus we are eliminating many duplicates. We set our combinations as:\n",
    "\n",
    "\\begin{equation*}nCk = \\frac{n!}{(n-k)!k!}\\end{equation*}\n",
    "\n",
    "This equation is called the *binomial coefficient* and can also be denoted as.\n",
    "\n",
    "\\begin{equation*}{n \\choose k} = \\frac{n!}{(n-k)!k!} \\end{equation*}"
   ]
  },
  {
   "cell_type": "code",
   "execution_count": null,
   "metadata": {
    "collapsed": true
   },
   "outputs": [],
   "source": [
    "length(combinations(4,4,subun,set=TRUE,repeats.allowed = F)[,1])\n",
    "combinations(4,4,subun,set=TRUE,repeats.allowed = F)\n",
    "choose(4,4)"
   ]
  },
  {
   "cell_type": "markdown",
   "metadata": {},
   "source": [
    "Exercise:\n",
    "\n",
    "How many combinations of 3 songs can we obtain from a list of the 8 greatest hits of all time?\n",
    "\n",
    "a. Sample with replacement\n",
    "\n",
    "<h3><center>$n^k$</center></h3>\n",
    "\n",
    "b. Sample without replacement but order is relevant\n",
    "\n",
    "<h3><center>nPk</center></h3>\n",
    "\n",
    "c. sample without replacement but order is irrelevant\n",
    "\n",
    "<h3><center>nCk</center></h3>"
   ]
  },
  {
   "cell_type": "code",
   "execution_count": null,
   "metadata": {
    "collapsed": true
   },
   "outputs": [],
   "source": []
  }
 ],
 "metadata": {
  "kernelspec": {
   "display_name": "R",
   "language": "R",
   "name": "ir"
  },
  "language_info": {
   "codemirror_mode": "r",
   "file_extension": ".r",
   "mimetype": "text/x-r-source",
   "name": "R",
   "pygments_lexer": "r",
   "version": "3.4.3"
  }
 },
 "nbformat": 4,
 "nbformat_minor": 2
}

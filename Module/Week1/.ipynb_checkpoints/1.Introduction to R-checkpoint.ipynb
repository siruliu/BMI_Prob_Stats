{
 "cells": [
  {
   "cell_type": "markdown",
   "metadata": {},
   "source": [
    "# Introduction to Probability and Statistics \n",
    "## BMI 6106\n",
    "---\n",
    "### Week 1 Introduction to R"
   ]
  },
  {
   "cell_type": "markdown",
   "metadata": {},
   "source": [
    "## What is R.\n",
    "\n",
    "“R is a language and environment for statistical computing and graphics” [https://www.r-project.org/about.html](https://www.r-project.org/about.html) \n",
    "\n",
    "### Why R? \n",
    "\n",
    "We will take advantage of the programming, mathematical, graphic and ease of access documentation that R provides to develop our course.\n",
    "\n",
    "We will use Jupyter notebooks using the R Kernel to combine Mathematical theory with code, so you can learn and practice at your own pace"
   ]
  },
  {
   "cell_type": "markdown",
   "metadata": {},
   "source": [
    "Multiple ways to run R.\n",
    "\n",
    "* R as a standalone package\n",
    "* Command line\n",
    "* Multiple R IDEs (e.g. Rstudio)\n",
    "\n",
    "\n",
    "\n",
    "* **Using Jupyter notebooks**"
   ]
  },
  {
   "cell_type": "markdown",
   "metadata": {},
   "source": [
    "## How to Install R:\n",
    "\n",
    "* Go to [https://cran.r-project.org/mirrors.html](https://cran.r-project.org/mirrors.html)\n",
    "\n",
    "\n",
    "* Select a mirror to download the executables. e.g. Berkely: [https://cran.cnr.berkeley.edu/](https://cran.cnr.berkeley.edu/)\n",
    "\n",
    "\n",
    "* Click on Download R for (your operative system (Windows, Mac, etc), and follow the instructions."
   ]
  },
  {
   "cell_type": "markdown",
   "metadata": {},
   "source": [
    "### Once R is installed you can use it directly or install an IDE, I personally use Rstudio\n"
   ]
  },
  {
   "cell_type": "markdown",
   "metadata": {},
   "source": [
    "## Installing Rstudio:\n",
    "\n",
    "* After installing R, Go to [https://www.rstudio.com/products/rstudio/download/](https://www.rstudio.com/products/rstudio/download/)\n",
    "\n",
    "\n",
    "* Select download on the free option\n",
    "\n",
    "\n",
    "* Select an installer for your operative system\n",
    "\n",
    "\n",
    "* Follow the instructions\n",
    "\n",
    "\n",
    "\n",
    "\n",
    "## Let’s navigate a little the IDE."
   ]
  },
  {
   "cell_type": "markdown",
   "metadata": {
    "collapsed": true
   },
   "source": [
    "[Working with R](./2.Working with R.ipynb) "
   ]
  }
 ],
 "metadata": {
  "kernelspec": {
   "display_name": "Python 3",
   "language": "python",
   "name": "python3"
  },
  "language_info": {
   "codemirror_mode": {
    "name": "ipython",
    "version": 3
   },
   "file_extension": ".py",
   "mimetype": "text/x-python",
   "name": "python",
   "nbconvert_exporter": "python",
   "pygments_lexer": "ipython3",
   "version": "3.6.3"
  }
 },
 "nbformat": 4,
 "nbformat_minor": 2
}

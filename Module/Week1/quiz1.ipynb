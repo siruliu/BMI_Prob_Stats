{
 "cells": [
  {
   "cell_type": "code",
   "execution_count": 21,
   "metadata": {},
   "outputs": [],
   "source": [
    "n=100000\n",
    "result=list()\n",
    "count=0"
   ]
  },
  {
   "cell_type": "code",
   "execution_count": 22,
   "metadata": {},
   "outputs": [],
   "source": [
    "for (i in 1:n){\n",
    "     a=rbinom(1,1,0.2)\n",
    "     b=rbinom(1,1,0.45)\n",
    "     c=rbinom(1,1,0.75)\n",
    "     result[[i]]=c(a,b,c)\n",
    " }"
   ]
  },
  {
   "cell_type": "code",
   "execution_count": 23,
   "metadata": {},
   "outputs": [],
   "source": [
    "for (i in 1:n){\n",
    "    if(setequal(result[[i]],list(0,0,0))){\n",
    "        count=count+1\n",
    "    }\n",
    "}\n"
   ]
  },
  {
   "cell_type": "code",
   "execution_count": 26,
   "metadata": {},
   "outputs": [
    {
     "name": "stdout",
     "output_type": "stream",
     "text": [
      "[1] 0.1108711\n"
     ]
    }
   ],
   "source": [
    "print(count/(n-1))"
   ]
  },
  {
   "cell_type": "code",
   "execution_count": 3,
   "metadata": {},
   "outputs": [
    {
     "ename": "ERROR",
     "evalue": "Error in combinations(6, 3, repeats.allowed = T): could not find function \"combinations\"\n",
     "output_type": "error",
     "traceback": [
      "Error in combinations(6, 3, repeats.allowed = T): could not find function \"combinations\"\nTraceback:\n"
     ]
    }
   ],
   "source": [
    "# 1. \n",
    "a=combinations(6,3,repeats.allowed=T)\n"
   ]
  },
  {
   "cell_type": "code",
   "execution_count": null,
   "metadata": {},
   "outputs": [],
   "source": [
    "#4 not equal -> dependent"
   ]
  }
 ],
 "metadata": {
  "kernelspec": {
   "display_name": "R",
   "language": "R",
   "name": "ir"
  },
  "language_info": {
   "codemirror_mode": "r",
   "file_extension": ".r",
   "mimetype": "text/x-r-source",
   "name": "R",
   "pygments_lexer": "r",
   "version": "3.4.3"
  }
 },
 "nbformat": 4,
 "nbformat_minor": 2
}

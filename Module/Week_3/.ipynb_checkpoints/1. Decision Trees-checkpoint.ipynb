{
 "cells": [
  {
   "cell_type": "code",
   "execution_count": null,
   "metadata": {},
   "outputs": [
    {
     "name": "stdout",
     "output_type": "stream",
     "text": [
      "\n",
      "The downloaded binary packages are in\n",
      "\t/var/folders/79/jxb90vv11gvb4bfw9cs5_kg00000gn/T//RtmpXzFlG7/downloaded_packages\n",
      "\n",
      "The downloaded binary packages are in\n",
      "\t/var/folders/79/jxb90vv11gvb4bfw9cs5_kg00000gn/T//RtmpXzFlG7/downloaded_packages\n",
      "\n",
      "The downloaded binary packages are in\n",
      "\t/var/folders/79/jxb90vv11gvb4bfw9cs5_kg00000gn/T//RtmpXzFlG7/downloaded_packages\n"
     ]
    },
    {
     "name": "stderr",
     "output_type": "stream",
     "text": [
      "also installing the dependencies ‘highr’, ‘markdown’, ‘yaml’\n",
      "\n"
     ]
    },
    {
     "name": "stdout",
     "output_type": "stream",
     "text": [
      "\n",
      "  There is a binary version available but the source version is later:\n",
      "      binary source needs_compilation\n",
      "knitr   1.18   1.19             FALSE\n",
      "\n",
      "\n",
      "The downloaded binary packages are in\n",
      "\t/var/folders/79/jxb90vv11gvb4bfw9cs5_kg00000gn/T//RtmpXzFlG7/downloaded_packages\n"
     ]
    },
    {
     "name": "stderr",
     "output_type": "stream",
     "text": [
      "installing the source package ‘knitr’\n",
      "\n",
      "also installing the dependency ‘irlba’\n",
      "\n"
     ]
    }
   ],
   "source": [
    "#Before we start lets install these packages that will be necessary for todays work\n",
    "    \n",
    "install.packages(\"ggplot2\")\n",
    "install.packages(\"dplyr\")\n",
    "install.packages(\"reshape2\")\n",
    "install.packages(\"knitr\")\n",
    "install.packages(\"igraph\")"
   ]
  },
  {
   "cell_type": "markdown",
   "metadata": {},
   "source": [
    "### 1. Decision Trees"
   ]
  },
  {
   "cell_type": "markdown",
   "metadata": {},
   "source": [
    "Let's start with the last question from homework 1."
   ]
  },
  {
   "cell_type": "markdown",
   "metadata": {},
   "source": [
    "Consider a family that has three children. We are interested in the children's genders. Also assume that all eight possible outcomes are equally likely."
   ]
  },
  {
   "cell_type": "markdown",
   "metadata": {},
   "source": [
    "What is the sample space? We can tabulate this by writing out all possible combinations\n",
    "s ={....}"
   ]
  },
  {
   "cell_type": "markdown",
   "metadata": {},
   "source": [
    "We can also use tree graphs to facilitate the analysis of probabilities. Decision trees are greatly use in machine learning for classification and regression in decision analysis. The basic idea is to be able to generate algorithms that behave in a tree-like structure in order to increase model accuracy by simplifying features from the initial structure (root)."
   ]
  },
  {
   "cell_type": "code",
   "execution_count": null,
   "metadata": {
    "collapsed": true
   },
   "outputs": [],
   "source": []
  },
  {
   "cell_type": "markdown",
   "metadata": {},
   "source": [
    "In our previous example we can simplify our conditional probability calculations by using tree graphs.\n",
    "\n",
    "Lets generate a tree graph in R and solve the last homework problem."
   ]
  },
  {
   "cell_type": "markdown",
   "metadata": {},
   "source": [
    "#### To generate the tree graph we must first set the tree structure, we will use the R package igraph, however, there are many other packages for analysis and visualization of tree structures."
   ]
  },
  {
   "cell_type": "code",
   "execution_count": null,
   "metadata": {},
   "outputs": [],
   "source": [
    "#install.packages(\"igraph\")\n",
    "library(igraph)"
   ]
  },
  {
   "cell_type": "code",
   "execution_count": null,
   "metadata": {
    "collapsed": true
   },
   "outputs": [],
   "source": [
    "g <- graph.tree(n = 2^4 - 1, children = 2) \n",
    "#we need four levels including the root (15 nodes), and each parent having two children"
   ]
  },
  {
   "cell_type": "code",
   "execution_count": null,
   "metadata": {
    "collapsed": true
   },
   "outputs": [],
   "source": [
    "##Lets add the node labels\n",
    "n_l = c(\"B\",\"G\")\n",
    "node_labels <- c(\"\",replicate(7,n_l))"
   ]
  },
  {
   "cell_type": "markdown",
   "metadata": {},
   "source": [
    "### and the edge labels, which in this case will be the probabilities"
   ]
  },
  {
   "cell_type": "code",
   "execution_count": null,
   "metadata": {
    "collapsed": true
   },
   "outputs": [],
   "source": [
    "edge_labels <- c(\"1/2\")\n",
    "edge_label2 = replicate(14,edge_labels)"
   ]
  },
  {
   "cell_type": "markdown",
   "metadata": {},
   "source": [
    "### Plot it!"
   ]
  },
  {
   "cell_type": "code",
   "execution_count": null,
   "metadata": {
    "collapsed": true
   },
   "outputs": [],
   "source": [
    "#Assign Color\n",
    "V(g)$color <- \"#C4D8E2\"\n",
    "#V(g)$color[3] <- \"white\"\n",
    "#V(g)$color[4] <- \"green\"\n",
    "\n",
    "#assign position\n",
    "coords <- layout_(g, as_tree())\n",
    "coord2 = matrix(c(-coords[,2],-coords[,1]),ncol = 2)"
   ]
  },
  {
   "cell_type": "code",
   "execution_count": null,
   "metadata": {},
   "outputs": [],
   "source": [
    "plot(g,\n",
    "     layout = coord2,           # draw graph as tree\n",
    "     vertex.size = 20,                  # node size\n",
    "     vertex.color = V(g)$color,          # node color\n",
    "     vertex.label = node_labels,        # node labels\n",
    "     vertex.label.cex = 1,             # node label size\n",
    "     vertex.label.family = \"Helvetica\", # node label family\n",
    "     vertex.label.font = 2,             # node label type (bold)\n",
    "     vertex.label.color = '#000000',    # node label size\n",
    "     edge.label = edge_label2,          # edge labels\n",
    "     edge.label.cex = .7,               # edge label size\n",
    "     edge.label.family = \"Helvetica\",   # edge label family\n",
    "     edge.label.font = 1,               # edge label font type (bold)\n",
    "     edge.label.color = '#000000',      # edge label color\n",
    "     edge.arrow.size = 0.2,              # arrow size\n",
    "     edge.arrow.width = 1              # arrow width\n",
    ")\n",
    "\n"
   ]
  },
  {
   "cell_type": "markdown",
   "metadata": {},
   "source": [
    "Question 1.\n",
    "What is the probability that the three children are girls given that the first child is a girl?"
   ]
  },
  {
   "cell_type": "markdown",
   "metadata": {},
   "source": [
    "In this case we have a conditional probability as we already know that the first child is girl (We will start calling it a prior), which means we exclude all of the side where the first child are boys."
   ]
  },
  {
   "cell_type": "code",
   "execution_count": null,
   "metadata": {},
   "outputs": [],
   "source": [
    "V(g)$color <- \"#C4D8E2\"\n",
    "V(g)$color[c(3)] <- \"green\"\n",
    "V(g)$color[c(2,4,5,8:11)] <- \"black\"\n",
    "\n",
    "plot(g,\n",
    "     layout = coord2,           # draw graph as tree\n",
    "     vertex.size = 20,                  # node size\n",
    "     vertex.color = V(g)$color,          # node color\n",
    "     vertex.label = node_labels,        # node labels\n",
    "     vertex.label.cex = 1,             # node label size\n",
    "     vertex.label.family = \"Helvetica\", # node label family\n",
    "     vertex.label.font = 2,             # node label type (bold)\n",
    "     vertex.label.color = '#000000',    # node label size\n",
    "     edge.label = edge_label2,          # edge labels\n",
    "     edge.label.cex = .7,               # edge label size\n",
    "     edge.label.family = \"Helvetica\",   # edge label family\n",
    "     edge.label.font = 1,               # edge label font type (bold)\n",
    "     edge.label.color = '#000000',      # edge label color\n",
    "     edge.arrow.size = 0.2,              # arrow size\n",
    "     edge.arrow.width = 1              # arrow width\n",
    ")"
   ]
  },
  {
   "cell_type": "markdown",
   "metadata": {},
   "source": [
    "Which means our sample space has changed, it has only 4 possibilities, thanks to the knowledge from our prior. of these 4 possibilities there is one combination where all children are girls."
   ]
  },
  {
   "cell_type": "code",
   "execution_count": null,
   "metadata": {},
   "outputs": [],
   "source": [
    "V(g)$edge.labels = replicate(12,c(\"1/2\"))\n",
    "V(g)$edge.labels[1:2] = \"\"\n",
    "\n",
    "V(g)$color <- \"#C4D8E2\"\n",
    "V(g)$color[c(2,4,5,8:11)] <- \"black\"\n",
    "V(g)$color[c(3)] <- \"green\"\n",
    "V(g)$color[c(7,15)] <- \"yellow\"\n",
    "\n",
    "plot(g,\n",
    "     layout = coord2,           # draw graph as tree\n",
    "     vertex.size = 20,                  # node size\n",
    "     vertex.color = V(g)$color,          # node color\n",
    "     vertex.label = node_labels,        # node labels\n",
    "     vertex.label.cex = 1,             # node label size\n",
    "     vertex.label.family = \"Helvetica\", # node label family\n",
    "     vertex.label.font = 2,             # node label type (bold)\n",
    "     vertex.label.color = '#000000',    # node label size\n",
    "     edge.label = V(g)$edge.labels,          # edge labels\n",
    "     edge.label.cex = .7,               # edge label size\n",
    "     edge.label.family = \"Helvetica\",   # edge label family\n",
    "     edge.label.font = 1,               # edge label font type (bold)\n",
    "     edge.label.color = '#000000',      # edge label color\n",
    "     edge.arrow.size = 0.2,              # arrow size\n",
    "     edge.arrow.width = 1              # arrow width\n",
    ")\n",
    "\n"
   ]
  },
  {
   "cell_type": "markdown",
   "metadata": {},
   "source": [
    "### What is left is simply set the intersection of the two events\n",
    "### 1/2 * 1/2 = 1/4"
   ]
  },
  {
   "cell_type": "markdown",
   "metadata": {
    "collapsed": true
   },
   "source": [
    "We can also calculate this using the conditional probability:\n",
    "p(A) = The three children are girls = 1/8\n",
    "p(B) = The first child is a girl = 1/2\n",
    "\n",
    "p(A|B) = $\\frac {P(A \\bigcap B)}{P(B)}$\n",
    "\n",
    "       "
   ]
  },
  {
   "cell_type": "markdown",
   "metadata": {},
   "source": [
    "$$= \\frac{\\frac{1}{8}}{\\frac{1}{2}}$$"
   ]
  },
  {
   "cell_type": "markdown",
   "metadata": {},
   "source": [
    "$$= \\frac{1}{4}$$"
   ]
  },
  {
   "cell_type": "code",
   "execution_count": null,
   "metadata": {
    "collapsed": true
   },
   "outputs": [],
   "source": []
  }
 ],
 "metadata": {
  "kernelspec": {
   "display_name": "R",
   "language": "R",
   "name": "ir"
  },
  "language_info": {
   "codemirror_mode": "r",
   "file_extension": ".r",
   "mimetype": "text/x-r-source",
   "name": "R",
   "pygments_lexer": "r",
   "version": "3.4.3"
  }
 },
 "nbformat": 4,
 "nbformat_minor": 2
}

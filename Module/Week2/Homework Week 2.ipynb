{
 "cells": [
  {
   "cell_type": "markdown",
   "metadata": {},
   "source": [
    "## Homework"
   ]
  },
  {
   "cell_type": "code",
   "execution_count": null,
   "metadata": {},
   "outputs": [],
   "source": []
  },
  {
   "cell_type": "markdown",
   "metadata": {},
   "source": [
    "### 1. History of Probability\n",
    "It is said that de Mere had been betting that, in four rolls of a die, at least one six would turn up. He was winning consistently and, to get more people to play, he changed the game to bet that, in 24 rolls of two dice, a pair of sixes would turn up. It is claimed that de Mere lost with 24 and felt that 25 rolls were necessary to make the game favorable. It was un grand scandale that mathematics was wrong."
   ]
  },
  {
   "cell_type": "code",
   "execution_count": 8,
   "metadata": {},
   "outputs": [
    {
     "data": {
      "text/html": [
       "<strong>TRUE:</strong> 0.9263"
      ],
      "text/latex": [
       "\\textbf{TRUE:} 0.9263"
      ],
      "text/markdown": [
       "**TRUE:** 0.9263"
      ],
      "text/plain": [
       "  TRUE \n",
       "0.9263 "
      ]
     },
     "metadata": {},
     "output_type": "display_data"
    },
    {
     "data": {
      "text/html": [
       "<strong>TRUE:</strong> 0.9384"
      ],
      "text/latex": [
       "\\textbf{TRUE:} 0.9384"
      ],
      "text/markdown": [
       "**TRUE:** 0.9384"
      ],
      "text/plain": [
       "  TRUE \n",
       "0.9384 "
      ]
     },
     "metadata": {},
     "output_type": "display_data"
    }
   ],
   "source": [
    "#1. Write function to sample from die\n",
    "#2. Write loop or function to tally sucess vs failure (define sucess?)\n",
    "#3. Run 10000 trials\n",
    "#4. Calculate probabilities for 24 rolls and 25 rolls\n",
    "\n",
    "#1.\n",
    "chevalier = function(x,n){\n",
    "  a = sample(x,n,replace = T)\n",
    "  return(a)\n",
    "}\n",
    "\n",
    "#2. #3.\n",
    "\n",
    "\n",
    "\n",
    "die = c(1:6)\n",
    "prob = function(n){\n",
    "    m=10000\n",
    "    a = character(m) #create an empty vector of m number of characters\n",
    "    mul = list() #create an empty list to get all our results\n",
    "    res = vector()\n",
    "    \n",
    "    for(i in 1:m){\n",
    "     res = chevalier(die,n)\n",
    "     mul[[i]]=res\n",
    "    # List contains multiple vectors\n",
    "    # Call element in list use double [[]]\n",
    "    \n",
    "    inds <- which(res %in% c(6))\n",
    "    \n",
    "     if (length(res[inds])>=2){\n",
    "         a[i]=\"TRUE\"\n",
    "     }\n",
    "     else{\n",
    "         a[i]=\"FALSE\"\n",
    "     }\n",
    " }\n",
    "    return (table(a)[\"TRUE\"]/m)\n",
    "    \n",
    "}\n",
    "\n",
    "prob24 = prob(24)\n",
    "prob25 = prob(25)\n",
    "\n",
    "prob24\n",
    "prob25\n",
    "\n"
   ]
  },
  {
   "cell_type": "code",
   "execution_count": 1,
   "metadata": {},
   "outputs": [],
   "source": [
    "dice_sample = function(){    sum(sample(1:6,2,replace = T))}\n"
   ]
  },
  {
   "cell_type": "code",
   "execution_count": 2,
   "metadata": {},
   "outputs": [
    {
     "data": {
      "text/html": [
       "0.489"
      ],
      "text/latex": [
       "0.489"
      ],
      "text/markdown": [
       "0.489"
      ],
      "text/plain": [
       "[1] 0.489"
      ]
     },
     "metadata": {},
     "output_type": "display_data"
    }
   ],
   "source": [
    "##24 rolls\n",
    "a = replicate(10000, ifelse(sapply(1:24,function(x) dice_sample()) == 12,1,0))\n",
    "length(which(apply(a,2,function(x) any(1 %in% x))))/10000\n"
   ]
  },
  {
   "cell_type": "code",
   "execution_count": 3,
   "metadata": {},
   "outputs": [
    {
     "data": {
      "text/html": [
       "0.4895"
      ],
      "text/latex": [
       "0.4895"
      ],
      "text/markdown": [
       "0.4895"
      ],
      "text/plain": [
       "[1] 0.4895"
      ]
     },
     "metadata": {},
     "output_type": "display_data"
    }
   ],
   "source": [
    "##25 rolls\n",
    "a = replicate(10000, ifelse(sapply(1:24,function(x) dice_sample()) == 12,1,0))\n",
    "length(which(apply(a,2,function(x) any(1 %in% x))))/10000"
   ]
  },
  {
   "cell_type": "markdown",
   "metadata": {},
   "source": [
    "## 2. Addition rule\n",
    "\n",
    "#### Find the probabilities using the table\n",
    "\n",
    "\n",
    "> 1. Type O or AB.\n",
    "\n",
    "> 2. Type A or AB.\n",
    "\n",
    "> 3. Type AB or Rh negative. \n",
    "\n",
    "> 4. Type O and Negative. \n",
    "\n",
    "> 5. Type AB"
   ]
  },
  {
   "cell_type": "markdown",
   "metadata": {},
   "source": [
    "|Type     |O    |A    |B    |AB |Total |\n",
    "|:--------|:----|:----|:---------|:-------|:-----|\n",
    "|Positive |163  |662  |1513      |1603    |3941  |\n",
    "|Negative |224  |933  |2400      |2337    |5894  |\n",
    "|Total    |387  |1595 |3913      |3940    |9835  |\n"
   ]
  },
  {
   "cell_type": "code",
   "execution_count": 9,
   "metadata": {},
   "outputs": [
    {
     "ename": "ERROR",
     "evalue": "Error in parse(text = x, srcfile = src): <text>:2:0: unexpected end of input\n1: 1. (387+3940)/(9835)=\n   ^\n",
     "output_type": "error",
     "traceback": [
      "Error in parse(text = x, srcfile = src): <text>:2:0: unexpected end of input\n1: 1. (387+3940)/(9835)=\n   ^\nTraceback:\n"
     ]
    }
   ],
   "source": [
    "1. (387+3940)/(9835)=0.44\n",
    "2. (1595+3940)/(9835)=0.56\n",
    "3. (3940+5894-2337)/9835=0.76\n",
    "4.  224/9835=0.02\n",
    "5.  3940/9835=0.40\n"
   ]
  },
  {
   "cell_type": "markdown",
   "metadata": {},
   "source": [
    "### 3. Multiplication Rule\n",
    "\n",
    "##### From this exercises: If I roll 5 dice, what is the chance of getting all sixes? What is the chance of getting no sixes?\n",
    "\n",
    "Write a simulation in R to obtain the probabilities for each of these two exercises running 10000 trials\n",
    "\n",
    "Hint.\n",
    "\n",
    "Remember that the change to get all 6 in 5 rolls is $(1/6)^5$\n",
    "\n",
    "and to get no sixes is $(5/6)^5$\n"
   ]
  },
  {
   "cell_type": "code",
   "execution_count": 10,
   "metadata": {},
   "outputs": [
    {
     "data": {
      "text/html": [
       "<strong>TRUE:</strong> 1e-04"
      ],
      "text/latex": [
       "\\textbf{TRUE:} 1e-04"
      ],
      "text/markdown": [
       "**TRUE:** 1e-04"
      ],
      "text/plain": [
       " TRUE \n",
       "1e-04 "
      ]
     },
     "metadata": {},
     "output_type": "display_data"
    },
    {
     "data": {
      "text/html": [
       "<strong>TRUE:</strong> 0.4021"
      ],
      "text/latex": [
       "\\textbf{TRUE:} 0.4021"
      ],
      "text/markdown": [
       "**TRUE:** 0.4021"
      ],
      "text/plain": [
       "  TRUE \n",
       "0.4021 "
      ]
     },
     "metadata": {},
     "output_type": "display_data"
    }
   ],
   "source": [
    "#All sixes\n",
    "#1. Write function to sample from die\n",
    "#2. Write function to determine if in each 5 rolls we get all sixes (6*5) \n",
    "#3. Run 10000 trials - Hint check sapply function\n",
    "#4. Calculate probability\n",
    "\n",
    "chevalier = function(x,n){\n",
    "  a = sample(x,n,replace = T)\n",
    "  return(a)\n",
    "}\n",
    "die = c(1:6)\n",
    "\n",
    "prob = function(count){\n",
    "    n=5\n",
    "    m=10000\n",
    "    a = character(m) #create an empty vector of m number of characters\n",
    "    mul = list() #create an empty list to get all our results\n",
    "    res = vector()\n",
    "    \n",
    "    for(i in 1:m){\n",
    "     res = chevalier(die,n)\n",
    "     mul[[i]]=res\n",
    "    # List contains multiple vectors\n",
    "    # Call element in list use double [[]]\n",
    "    \n",
    "    inds <- which(res %in% c(6))\n",
    "    \n",
    "     if (length(res[inds])==count){\n",
    "         a[i]=\"TRUE\"\n",
    "     }\n",
    "     else{\n",
    "         a[i]=\"FALSE\"\n",
    "     }\n",
    " }\n",
    "    return (table(a)[\"TRUE\"]/m)\n",
    "    \n",
    "}\n",
    "\n",
    "prob(5)\n",
    "\n",
    "\n",
    "#No sixes\n",
    "\n",
    "#1. Write function to sample from die - - Hint check sapply function -\n",
    "#2. Write function to determine if in each 5 rolls we get no sixes (6*5)\n",
    "#3. Run 10000 trials \n",
    "#4. Calculate probability\n",
    "\n",
    "prob(0)"
   ]
  },
  {
   "cell_type": "markdown",
   "metadata": {},
   "source": [
    "### 4. Conditional Probability\n",
    "\n",
    "Consider a family that has three children. We are interested in the children's genders. Our sample space is S={(G,G,G),(G,G,B),(G,B,G),(G,B,B),(B,G,G),(B,G,B),(B,B,G),(B,B,B)}. Also assume that all eight possible outcomes are equally likely.\n",
    "\n",
    "1. What is the probability that the three children are girls given that the first child is a girl?\n",
    "\n",
    "2. What is the probability that At least two children are boys given that the first child is a boy?"
   ]
  },
  {
   "cell_type": "code",
   "execution_count": 2,
   "metadata": {},
   "outputs": [
    {
     "ename": "ERROR",
     "evalue": "Error in parse(text = x, srcfile = src): <text>:1:4: unexpected symbol\n1: 1. A\n       ^\n",
     "output_type": "error",
     "traceback": [
      "Error in parse(text = x, srcfile = src): <text>:1:4: unexpected symbol\n1: 1. A\n       ^\nTraceback:\n"
     ]
    }
   ],
   "source": [
    "1. A: all three children are girls\n",
    "   B: the first child is girl\n",
    "   P(A|B)=P(A and B)/P(B) = P(A)/P(B)=(1/8)/(1/2)=1/4\n",
    "\n",
    "2. A: At least two children are boys\n",
    "   B: the first child is a boy\n",
    "   P(A|B) = P(A and B)/P(B) = (3/8)/(1/2)=3/4"
   ]
  },
  {
   "cell_type": "code",
   "execution_count": null,
   "metadata": {},
   "outputs": [],
   "source": []
  }
 ],
 "metadata": {
  "kernelspec": {
   "display_name": "R",
   "language": "R",
   "name": "ir"
  },
  "language_info": {
   "codemirror_mode": "r",
   "file_extension": ".r",
   "mimetype": "text/x-r-source",
   "name": "R",
   "pygments_lexer": "r",
   "version": "3.4.3"
  }
 },
 "nbformat": 4,
 "nbformat_minor": 2
}

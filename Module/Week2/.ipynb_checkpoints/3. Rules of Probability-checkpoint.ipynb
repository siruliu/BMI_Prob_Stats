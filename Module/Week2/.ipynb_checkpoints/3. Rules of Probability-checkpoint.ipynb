{
 "cells": [
  {
   "cell_type": "markdown",
   "metadata": {},
   "source": [
    "## 3. Rules of probability"
   ]
  },
  {
   "cell_type": "markdown",
   "metadata": {},
   "source": [
    "### Rule 1. \n",
    "\n",
    "For every event (A)\n",
    "\n",
    "P(A) $\\geq$ 0\n",
    "\n",
    "\n",
    "0 $\\leq$ P(A) $\\leq$ 1\n"
   ]
  },
  {
   "cell_type": "markdown",
   "metadata": {},
   "source": [
    "### Rule 2. \n",
    "\n",
    "P($\\Omega$) = 1 The sum of probabilities in the sample space add to 1. "
   ]
  },
  {
   "cell_type": "markdown",
   "metadata": {},
   "source": [
    "e.g. In one coin toss\n",
    "\n",
    "probability of obtaining head = 1/2 \n",
    "probability of tail = 1/2 \n",
    "\n",
    "P($\\Omega$) = 1"
   ]
  },
  {
   "cell_type": "markdown",
   "metadata": {},
   "source": [
    "### Rule 3 (Addition rule). \n",
    "\n",
    "If A and B are disjoint events [i.e., A $\\bigcap$ B = 0], then the probability that at least one of the two occurs is the sum of the individual probabilities. More precisely put,\n",
    "\n",
    "P(A $\\bigcup$ B) = P(A) + P(B).\n",
    "\n",
    "or Generalizing\n",
    "\n",
    "$$ Pr \\Bigg(\\bigcup_{i=1}^{\\infty}A_i\\Bigg) =\\sum_{i=1}^{\\infty} Pr(A_i) $$"
   ]
  },
  {
   "cell_type": "markdown",
   "metadata": {},
   "source": [
    "Example\n",
    "\n",
    "Rolling a Die. \n",
    "\n",
    "For each subset A of $\\Omega$ = {1, 2, 3, 4, 5, 6}, let P(A) be the number of elements of A divided by 6. \n",
    "\n",
    "For example, \n",
    "P(1) = 1/6. \n",
    "\n",
    "P(1,2) = 1/6 + 1/6 = 2/6.\n",
    "\n",
    "\n",
    "Does it satisfies the first two axioms?. "
   ]
  },
  {
   "cell_type": "code",
   "execution_count": null,
   "metadata": {
    "collapsed": true
   },
   "outputs": [],
   "source": []
  }
 ],
 "metadata": {
  "kernelspec": {
   "display_name": "R",
   "language": "R",
   "name": "ir"
  },
  "language_info": {
   "codemirror_mode": "r",
   "file_extension": ".r",
   "mimetype": "text/x-r-source",
   "name": "R",
   "pygments_lexer": "r",
   "version": "3.4.3"
  }
 },
 "nbformat": 4,
 "nbformat_minor": 2
}

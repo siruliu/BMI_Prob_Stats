{
 "cells": [
  {
   "cell_type": "markdown",
   "metadata": {
    "slideshow": {
     "slide_type": "slide"
    }
   },
   "source": [
    "# 1. History of Probability"
   ]
  },
  {
   "cell_type": "markdown",
   "metadata": {
    "slideshow": {
     "slide_type": "subslide"
    }
   },
   "source": [
    "The history of probability is tightly tied to the history of gambling, the earliest six-sided dice dated to about 3000 BC. The first playing cards were known to have existed in the 9th century. However, during most of humanity there was not a formal definition of the mathematics  of chance. \n",
    "\n",
    "One problem was the abstract concept of randomness. For most of the history of humanity, randomness was mostly attributed to divine intervention thus not really tried to be treated as a mathematical concept. Another problem was the inconvenience of the earlier numerical systems. It was not until the adoption of the indian-arabic numerals that real advances were made regarding the concept and rules of gambling."
   ]
  },
  {
   "cell_type": "markdown",
   "metadata": {
    "slideshow": {
     "slide_type": "subslide"
    }
   },
   "source": [
    "It was not until the 17th century that a more formal definition of probability and chance was developed. The intial records of the attempts to solve gambling problems are found in a series of correspondences between two mathematicians Blaise Pascal and Pierre de Fermat.\n",
    "\n",
    "In these letters they attempt to solve questions related to gambling that were raised by a French nobleman (Antoine Gombaud, Chevalier de Mere) whom was an avid gambler."
   ]
  },
  {
   "cell_type": "markdown",
   "metadata": {},
   "source": [
    "### Lets review one of the questions that Chevalier the Mere asked to Pascal:"
   ]
  },
  {
   "cell_type": "markdown",
   "metadata": {},
   "source": [
    "For the first question, de Mere made bet with even odds on getting at least one six on four rolls of a fair die. He was actually making money from this bet, why? \n",
    "\n",
    "We shall try to see if de Mere is correct by simulating his various bets"
   ]
  },
  {
   "cell_type": "markdown",
   "metadata": {},
   "source": [
    "#### How can we generate random draws in R?"
   ]
  },
  {
   "cell_type": "code",
   "execution_count": null,
   "metadata": {
    "collapsed": true
   },
   "outputs": [],
   "source": [
    "##Generate a random number from 0 to 1 using the uniform distribution\n",
    "## We will use the function runif()\n",
    "?runif"
   ]
  },
  {
   "cell_type": "code",
   "execution_count": null,
   "metadata": {
    "collapsed": true
   },
   "outputs": [],
   "source": [
    "runif(20, 0,1)"
   ]
  },
  {
   "cell_type": "code",
   "execution_count": null,
   "metadata": {
    "collapsed": true
   },
   "outputs": [],
   "source": [
    "## Antoher was to generate a random draw is with the function sample() \n",
    "?sample"
   ]
  },
  {
   "cell_type": "code",
   "execution_count": null,
   "metadata": {
    "collapsed": true
   },
   "outputs": [],
   "source": [
    "##Randomly sample 1 object from the numerical range 1 to 6 \n",
    "sample(1:6,1)"
   ]
  },
  {
   "cell_type": "code",
   "execution_count": null,
   "metadata": {
    "collapsed": true
   },
   "outputs": [],
   "source": [
    "##The function hist() creates a histogram of the proportions of values obtained in n random draws\n",
    "n = 10\n",
    "hist(sample(1:6, n, replace = T))"
   ]
  },
  {
   "cell_type": "markdown",
   "metadata": {},
   "source": [
    "What happens to our proportions when we increase n to a larger number (100,10000,100000)"
   ]
  },
  {
   "cell_type": "markdown",
   "metadata": {},
   "source": [
    "We can also sample any type of vector, for example"
   ]
  },
  {
   "cell_type": "code",
   "execution_count": null,
   "metadata": {
    "collapsed": true
   },
   "outputs": [],
   "source": [
    "sample(state.name, 10)\n"
   ]
  },
  {
   "cell_type": "code",
   "execution_count": null,
   "metadata": {
    "collapsed": true
   },
   "outputs": [],
   "source": [
    "sample(LETTERS,30, replace = T)"
   ]
  },
  {
   "cell_type": "markdown",
   "metadata": {},
   "source": [
    "Lets simulate a simple gambling game coin toss"
   ]
  },
  {
   "cell_type": "code",
   "execution_count": null,
   "metadata": {
    "collapsed": true
   },
   "outputs": [],
   "source": [
    "coins = c(0,1)"
   ]
  },
  {
   "cell_type": "code",
   "execution_count": null,
   "metadata": {
    "collapsed": true
   },
   "outputs": [],
   "source": [
    "names(coins) = c(\"H\",\"T\")"
   ]
  },
  {
   "cell_type": "code",
   "execution_count": null,
   "metadata": {
    "collapsed": true
   },
   "outputs": [],
   "source": [
    "n = 10000\n",
    "trial = sample(coins, n, replace = T)\n",
    "#trial"
   ]
  },
  {
   "cell_type": "code",
   "execution_count": null,
   "metadata": {
    "collapsed": true
   },
   "outputs": [],
   "source": [
    "length(trial[trial==0])/n\n",
    "length(trial[trial==1])/n"
   ]
  },
  {
   "cell_type": "code",
   "execution_count": null,
   "metadata": {
    "collapsed": true
   },
   "outputs": [],
   "source": [
    "length(trial[names(trial)==\"T\"])/n\n",
    "length(trial[names(trial)==\"H\"])/n"
   ]
  },
  {
   "cell_type": "code",
   "execution_count": null,
   "metadata": {
    "collapsed": true
   },
   "outputs": [],
   "source": [
    "table(trial)"
   ]
  },
  {
   "cell_type": "markdown",
   "metadata": {},
   "source": [
    "## Back to our original question, we need to simulate 4 trows of a fare die and count how many 6 we get"
   ]
  },
  {
   "cell_type": "code",
   "execution_count": null,
   "metadata": {
    "collapsed": true
   },
   "outputs": [],
   "source": [
    "#We need to create a function that allows us to sample many times (in this case 4) from a die\n",
    "die = c(1:6)\n",
    "n = 4"
   ]
  },
  {
   "cell_type": "markdown",
   "metadata": {},
   "source": [
    "A function in R is created using the format\n",
    "Var_name = function(args){...}"
   ]
  },
  {
   "cell_type": "code",
   "execution_count": null,
   "metadata": {
    "collapsed": true
   },
   "outputs": [],
   "source": [
    "##This function will sample from the vector x, n times with replacement\n",
    "chevalier = function(x,n){\n",
    "  a = sample(x,n,replace = T)\n",
    "  return(a)\n",
    "}"
   ]
  },
  {
   "cell_type": "code",
   "execution_count": null,
   "metadata": {
    "collapsed": true
   },
   "outputs": [],
   "source": [
    "res = chevalier(die,n)\n",
    "res"
   ]
  },
  {
   "cell_type": "markdown",
   "metadata": {},
   "source": [
    "We need now to repeat this draw many times and calculate how many times we are succesful (at least one 6) or not. In python the clear method is with a loop.\n",
    "\n",
    "In R loops (for, if, while) follow the following format\n",
    "\n",
    "for (i in x){...}\n"
   ]
  },
  {
   "cell_type": "code",
   "execution_count": null,
   "metadata": {
    "collapsed": true
   },
   "outputs": [],
   "source": [
    "m = 10 #how many times we are going to repeat the draw\n",
    "\n",
    "#we need a loop that cycles m times using our sampling function, \n",
    "#and assing each result to either a true or false if we have a 6 in the draw\n",
    "\n",
    "a = character(m) #create an empty vector of m number of characters\n",
    "mul = list() #create an empty list to get all our results\n",
    "res = vector()\n",
    "\n",
    "for (i in 1:m){\n",
    "  \n",
    "}\n",
    "\n",
    "for(i in 1:m){\n",
    "     res = chevalier(die,n)\n",
    "     mul[[i]]=res\n",
    "     if (6 %in% res){\n",
    "         a[i]=\"TRUE\"\n",
    "     }\n",
    "     else{\n",
    "         a[i]=\"FALSE\"\n",
    "     }\n",
    " }"
   ]
  },
  {
   "cell_type": "code",
   "execution_count": null,
   "metadata": {
    "collapsed": true
   },
   "outputs": [],
   "source": [
    "mul"
   ]
  },
  {
   "cell_type": "code",
   "execution_count": null,
   "metadata": {
    "collapsed": true
   },
   "outputs": [],
   "source": [
    "a"
   ]
  },
  {
   "cell_type": "code",
   "execution_count": null,
   "metadata": {
    "collapsed": true
   },
   "outputs": [],
   "source": [
    "table(a)[\"TRUE\"]/m"
   ]
  },
  {
   "cell_type": "markdown",
   "metadata": {},
   "source": [
    "we hate loops in R, loops in R run extremely slow. A very important family of built in functions serve as a more efficient way of deal with loops.\n",
    "\n",
    "This is the apply family\n",
    "\n",
    "Lets rewrite our preview example using the apply function\n",
    "\n"
   ]
  },
  {
   "cell_type": "code",
   "execution_count": null,
   "metadata": {
    "collapsed": true
   },
   "outputs": [],
   "source": [
    "?apply"
   ]
  },
  {
   "cell_type": "code",
   "execution_count": null,
   "metadata": {},
   "outputs": [],
   "source": [
    "#First lets replicate the sampling function m times\n",
    "m = 10\n",
    "die_list = replicate(m,chevalier(die,n))\n",
    "die_list"
   ]
  },
  {
   "cell_type": "code",
   "execution_count": null,
   "metadata": {},
   "outputs": [],
   "source": [
    "true_vector = apply(die_list, 2, function(r) any(r %in% 6))\n",
    "true_vector"
   ]
  },
  {
   "cell_type": "code",
   "execution_count": null,
   "metadata": {},
   "outputs": [],
   "source": [
    "length(which(true_vector == \"TRUE\"))/m"
   ]
  },
  {
   "cell_type": "code",
   "execution_count": null,
   "metadata": {
    "collapsed": true
   },
   "outputs": [],
   "source": []
  }
 ],
 "metadata": {
  "kernelspec": {
   "display_name": "R",
   "language": "R",
   "name": "ir"
  },
  "language_info": {
   "codemirror_mode": "r",
   "file_extension": ".r",
   "mimetype": "text/x-r-source",
   "name": "R",
   "pygments_lexer": "r",
   "version": "3.3.2"
  }
 },
 "nbformat": 4,
 "nbformat_minor": 2
}
